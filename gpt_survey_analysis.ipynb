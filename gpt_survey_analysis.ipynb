{
 "cells": [
  {
   "cell_type": "code",
   "execution_count": 10,
   "metadata": {},
   "outputs": [
    {
     "name": "stdout",
     "output_type": "stream",
     "text": [
      "ChatCompletionMessage(content='0.9', role='assistant', function_call=None, tool_calls=None)\n",
      "ChatCompletionMessage(content='0.7', role='assistant', function_call=None, tool_calls=None)\n",
      "Responses have been rated and saved to rated_responses.json.\n"
     ]
    }
   ],
   "source": [
    "import json\n",
    "import os\n",
    "from openai import OpenAI\n",
    "\n",
    "# Requires an API key to be set as an environment variable! :$it's a secret$: \n",
    "# Create an issue on the repository if you need help with that (or just ask ChatGPT!)\n",
    "# All student responses from the survey are stored in this file\n",
    "with open('all_responses.json', 'r') as file:\n",
    "    data = json.load(file)\n",
    "    all_responses = data['responses']\n",
    "\n",
    "# Example ratings for few shot learning of the following open-ended question in the survey:\n",
    "# \"what do you know about neural networks (write in one sentence without looking it up)?\"\n",
    "system_prompt = \"In the pre-survey and the post-survey, the question is: ``What do you know about neural networks (write in one sentence without looking it up)?'' Students have responded to this question. The task is to score each response based on the following criteria on ``Fidelity''. Criteria Title: Technical Depth & Accuracy. Description: Evaluates the richness and correctness of the technical details provided in the answer\"\n",
    "example_responses = [\n",
    "    \"Neural networks are a series of hidden layers (Conv2D, BatchNorm, MaxPooling, etc.) that each contain a certain number of trainable parameters (neurons), which are updated by using gradient descent after each iteration when the loss is calculated\",\n",
    "    \"Neural networks is the structure behind artificial intelligence that make it able to ``think'' and operate the way it does.\",\n",
    "    \"A neural network is a way for AI to simulate the human brain through interconnected nodes with many different hidden layers.\"\n",
    "]\n",
    "example_ratings = [0.9, 0.2, 0.6]\n",
    "\n",
    "# The classifier function\n",
    "def rate_response(response):\n",
    "    prompt = \"\\n\".join(\n",
    "        [system_prompt] + \n",
    "        [f\"Input text: '{resp}'. Rating: {rate}\" for resp, rate in zip(example_responses, example_ratings)]\n",
    "    )\n",
    "    \n",
    "    gpt_output = OpenAI().chat.completions.create(\n",
    "        model=\"gpt-3.5-turbo\", # choose the GPT model you want to use\n",
    "        messages=[\n",
    "            {\n",
    "                \"role\": \"system\",\n",
    "                \"content\": prompt,\n",
    "            },\n",
    "            {\n",
    "                \"role\":\"user\",\n",
    "                \"content\":f\"Input text: {response}. Rating:\"\n",
    "            }\n",
    "        ],\n",
    "        max_tokens=5 # To limit the model output\n",
    "    )\n",
    "    return gpt_output\n",
    "\n",
    "# Classify each comment and store\n",
    "all_ratings = []\n",
    "all_rated_responses = {}\n",
    "\n",
    "for response in all_responses:\n",
    "    output = rate_response(response)\n",
    "    rating_float = output.choices[0].message.content\n",
    "    all_ratings.append(rating_float)\n",
    "    all_rated_responses[response] = rating_float\n",
    "    \n",
    "# Save a new JSON file\n",
    "with open('rated_responses.json', 'w') as file:\n",
    "    json.dump(all_rated_responses, file, indent=4)\n",
    "\n",
    "print(\"Responses have been rated and saved to rated_responses.json.\")\n"
   ]
  }
 ],
 "metadata": {
  "kernelspec": {
   "display_name": "base",
   "language": "python",
   "name": "python3"
  },
  "language_info": {
   "codemirror_mode": {
    "name": "ipython",
    "version": 3
   },
   "file_extension": ".py",
   "mimetype": "text/x-python",
   "name": "python",
   "nbconvert_exporter": "python",
   "pygments_lexer": "ipython3",
   "version": "3.11.5"
  }
 },
 "nbformat": 4,
 "nbformat_minor": 2
}
